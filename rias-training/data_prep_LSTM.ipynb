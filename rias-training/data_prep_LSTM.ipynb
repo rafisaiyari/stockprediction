{
 "cells": [
  {
   "cell_type": "code",
   "execution_count": 2,
   "id": "9ce84478-8f98-4f39-9ec2-8304b66e91b9",
   "metadata": {},
   "outputs": [],
   "source": [
    "import pandas as pd\n",
    "import numpy as np\n",
    "from keras.models import Sequential\n",
    "from keras.layers import LSTM\n",
    "from keras.layers import Dense, Dropout\n",
    "from matplotlib import pyplot as plt \n",
    "from sklearn.preprocessing import MinMaxScaler\n",
    "import seaborn as sns\n",
    "import matplotlib.dates as mdates\n",
    "import joblib"
   ]
  },
  {
   "cell_type": "code",
   "execution_count": 4,
   "id": "0d122ebd-ced7-4eca-b03e-930e45086f71",
   "metadata": {},
   "outputs": [],
   "source": [
    "data = pd.read_csv('META-stocks.csv')\n",
    "data[\"Date\"] = pd.to_datetime(data[\"Date\"])\n",
    "data[\"Date\"] = pd.to_datetime(data[\"Date\"])"
   ]
  },
  {
   "cell_type": "code",
   "execution_count": 5,
   "id": "dade8c80-3c2f-4725-a87c-47a9da2b670c",
   "metadata": {},
   "outputs": [],
   "source": [
    "features = ['Open', 'High', 'Low', 'Close', 'Adj Close']\n",
    "target = 'Close'"
   ]
  },
  {
   "cell_type": "code",
   "execution_count": 6,
   "id": "0a5d8311-3a05-4376-b295-424c7f0b12ad",
   "metadata": {},
   "outputs": [],
   "source": [
    "for col in ['Open', 'High', 'Low', 'Close', 'Adj Close']:\n",
    "    data[col] = data[col].replace('[\\$,]', '', regex=True).astype(float)\n",
    "for col in ['Volume']:\n",
    "    data[col] = data[col].replace('[\\$,]', '', regex=True).astype(int)"
   ]
  },
  {
   "cell_type": "code",
   "execution_count": 7,
   "id": "d80bed9b-6df6-4778-899e-2b7aa229c259",
   "metadata": {},
   "outputs": [
    {
     "data": {
      "text/plain": [
       "Date         datetime64[ns]\n",
       "Open                float64\n",
       "High                float64\n",
       "Low                 float64\n",
       "Close               float64\n",
       "Adj Close           float64\n",
       "Volume                int64\n",
       "dtype: object"
      ]
     },
     "execution_count": 7,
     "metadata": {},
     "output_type": "execute_result"
    }
   ],
   "source": [
    "data.dtypes"
   ]
  },
  {
   "cell_type": "code",
   "execution_count": 8,
   "id": "9eae9514-d5b5-4db4-a543-cf4411992c56",
   "metadata": {},
   "outputs": [
    {
     "data": {
      "text/plain": [
       "<bound method NDFrame.tail of            Date        Open        High         Low       Close   Adj Close  \\\n",
       "0    2012-05-18   42.049999   45.000000   38.000000   38.230000   38.084515   \n",
       "1    2012-05-21   36.529999   36.660000   33.000000   34.029999   33.900501   \n",
       "2    2012-05-22   32.610001   33.590000   30.940001   31.000000   30.882032   \n",
       "3    2012-05-23   31.370001   32.500000   31.360001   32.000000   31.878227   \n",
       "4    2012-05-24   32.950001   33.209999   31.770000   33.029999   32.904308   \n",
       "...         ...         ...         ...         ...         ...         ...   \n",
       "3181 2025-01-13  607.099976  608.969971  598.450012  608.330017  608.330017   \n",
       "3182 2025-01-14  605.070007  605.489990  588.549988  594.250000  594.250000   \n",
       "3183 2025-01-15  610.210022  622.460022  606.500000  617.119995  617.119995   \n",
       "3184 2025-01-16  611.500000  616.250000  609.710022  611.299988  611.299988   \n",
       "3185 2025-01-17  624.049988  624.969971  603.669983  612.770020  612.770020   \n",
       "\n",
       "         Volume  \n",
       "0     573576400  \n",
       "1     168192700  \n",
       "2     101786600  \n",
       "3      73600000  \n",
       "4      50237200  \n",
       "...         ...  \n",
       "3181   10785000  \n",
       "3182   13598000  \n",
       "3183   15524300  \n",
       "3184    8355300  \n",
       "3185   17244000  \n",
       "\n",
       "[3186 rows x 7 columns]>"
      ]
     },
     "execution_count": 8,
     "metadata": {},
     "output_type": "execute_result"
    }
   ],
   "source": [
    "data.head\n",
    "data.tail"
   ]
  },
  {
   "cell_type": "code",
   "execution_count": 10,
   "id": "d11c6c8d-e0c3-484b-b8af-473e66b8eed9",
   "metadata": {},
   "outputs": [],
   "source": [
    "#train_end_date = pd.to_datetime(\"2024-01-01\")\n",
    "#validate_start_date = pd.to_datetime(\"2024-01-02\")\n",
    "#validate_end_date = pd.to_datetime(\"2024-12-31\")\n",
    "#test_start_date = pd.to_datetime(\"2025-01-01\")\n",
    "#test_end_date = pd.to_datetime(\"2025-08-08\")\n",
    "\n",
    "train_end_date      = pd.to_datetime(\"2023-12-31\")\n",
    "validate_start_date = pd.to_datetime(\"2024-01-01\")\n",
    "validate_end_date   = pd.to_datetime(\"2024-06-30\")\n",
    "test_start_date     = pd.to_datetime(\"2024-07-01\")\n",
    "test_end_date       = pd.to_datetime(\"2025-01-17\")\n",
    "\n",
    "data_train = data[data[\"Date\"] <= train_end_date][features]\n",
    "data_train_dates = data[data[\"Date\"] <= train_end_date][\"Date\"]\n",
    "data_validate = data[(data[\"Date\"] >= validate_start_date) & (data[\"Date\"] <= validate_end_date)][features]\n",
    "data_validate_dates = data[(data[\"Date\"] >= validate_start_date) & (data[\"Date\"] <= validate_end_date)][\"Date\"]\n",
    "data_test = data[(data[\"Date\"] >= test_start_date) & (data[\"Date\"] <= test_end_date)][features]\n",
    "data_test_dates = data[(data[\"Date\"] >= test_start_date) & (data[\"Date\"] <= test_end_date)][\"Date\"]"
   ]
  },
  {
   "cell_type": "code",
   "execution_count": 11,
   "id": "78a10a50-e347-4ff0-b659-801a42fb21a8",
   "metadata": {},
   "outputs": [
    {
     "name": "stdout",
     "output_type": "stream",
     "text": [
      "Training Set: (2923, 5)\n",
      "Validation Set: (124, 5)\n",
      "Testing Set: (139, 5)\n"
     ]
    }
   ],
   "source": [
    "print(f\"Training Set: {data_train.shape}\")\n",
    "print(f\"Validation Set: {data_validate.shape}\")\n",
    "print(f\"Testing Set: {data_test.shape}\")"
   ]
  },
  {
   "cell_type": "code",
   "execution_count": 12,
   "id": "7248cac0-5205-461a-9947-0ca7094c7ab6",
   "metadata": {},
   "outputs": [
    {
     "name": "stdout",
     "output_type": "stream",
     "text": [
      "Training Dataset:\n",
      "        Open       High        Low      Close  Adj Close\n",
      "0  42.049999  45.000000  38.000000  38.230000  38.084515\n",
      "1  36.529999  36.660000  33.000000  34.029999  33.900501\n",
      "2  32.610001  33.590000  30.940001  31.000000  30.882032\n",
      "3  31.370001  32.500000  31.360001  32.000000  31.878227\n",
      "4  32.950001  33.209999  31.770000  33.029999  32.904308\n",
      "Validation Dataset:\n",
      "            Open        High         Low       Close   Adj Close\n",
      "2923  351.320007  353.160004  340.010010  346.290009  344.972229\n",
      "2924  344.980011  347.950012  343.179993  344.470001  343.159149\n",
      "2925  344.500000  348.149994  343.399994  347.119995  345.799042\n",
      "2926  346.989990  353.500000  346.260010  351.950012  350.610687\n",
      "2927  354.700012  358.980011  352.049988  358.660004  357.295166\n",
      "Testing Dataset:\n",
      "            Open        High         Low       Close   Adj Close\n",
      "3047  504.950012  506.579987  493.170013  504.679993  503.792633\n",
      "3048  500.760010  510.500000  499.450012  509.500000  508.604156\n",
      "3049  506.369995  511.279999  506.019989  509.959991  509.063354\n",
      "3050  511.600006  540.869995  511.600006  539.909973  538.960632\n",
      "3051  542.349976  542.809998  526.650024  529.320007  528.389343\n"
     ]
    }
   ],
   "source": [
    "print(\"Training Dataset:\")\n",
    "print(data_train.head())\n",
    "print(\"Validation Dataset:\")\n",
    "print(data_validate.head())\n",
    "print(\"Testing Dataset:\")\n",
    "print(data_test.head())"
   ]
  },
  {
   "cell_type": "code",
   "execution_count": 13,
   "id": "d329d037-07e6-46a7-8490-8d32bbc684ce",
   "metadata": {},
   "outputs": [
    {
     "data": {
      "image/png": "[encoded data removed]",
      "text/plain": [
       "<Figure size 1296x432 with 1 Axes>"
      ]
     },
     "metadata": {
      "needs_background": "light"
     },
     "output_type": "display_data"
    }
   ],
   "source": [
    "plt.figure(figsize=(18,6))\n",
    "plt.plot(data_train_dates, data_train[\"Close\"], color=\"cornflowerblue\")\n",
    "plt.plot(data_validate_dates, data_validate[\"Close\"], color=\"orange\")\n",
    "plt.plot(data_test_dates, data_test[\"Close\"], color=\"green\")\n",
    "plt.legend([\"Train Data\", \"Validation Data\", \"Test Data\"])\n",
    "plt.title(\"Data Split for Google Stock Price\")\n",
    "plt.xlabel(\"Samples Over Time\")\n",
    "plt.ylabel(\"Price (USD)\")\n",
    "plt.gca().xaxis.set_major_formatter(mdates.DateFormatter('%Y-%m'))\n",
    "plt.gca().xaxis.set_major_locator(mdates.MonthLocator(interval=2))\n",
    "plt.xticks(rotation=45)\n",
    "plt.grid()"
   ]
  },
  {
   "cell_type": "code",
   "execution_count": 14,
   "id": "21c4b645-d193-4a4e-91d3-2bf713c05700",
   "metadata": {},
   "outputs": [
    {
     "data": {
      "text/html": [
       "<div>\n",
       "<style scoped>\n",
       "    .dataframe tbody tr th:only-of-type {\n",
       "        vertical-align: middle;\n",
       "    }\n",
       "\n",
       "    .dataframe tbody tr th {\n",
       "        vertical-align: top;\n",
       "    }\n",
       "\n",
       "    .dataframe thead th {\n",
       "        text-align: right;\n",
       "    }\n",
       "</style>\n",
       "<table border=\"1\" class=\"dataframe\">\n",
       "  <thead>\n",
       "    <tr style=\"text-align: right;\">\n",
       "      <th></th>\n",
       "      <th>Open</th>\n",
       "      <th>High</th>\n",
       "      <th>Low</th>\n",
       "      <th>Close</th>\n",
       "      <th>Adj Close</th>\n",
       "    </tr>\n",
       "  </thead>\n",
       "  <tbody>\n",
       "    <tr>\n",
       "      <th>count</th>\n",
       "      <td>3186.000000</td>\n",
       "      <td>3186.000000</td>\n",
       "      <td>3186.000000</td>\n",
       "      <td>3186.000000</td>\n",
       "      <td>3186.000000</td>\n",
       "    </tr>\n",
       "    <tr>\n",
       "      <th>mean</th>\n",
       "      <td>186.993983</td>\n",
       "      <td>189.388905</td>\n",
       "      <td>184.632693</td>\n",
       "      <td>187.066114</td>\n",
       "      <td>186.438467</td>\n",
       "    </tr>\n",
       "    <tr>\n",
       "      <th>std</th>\n",
       "      <td>132.340763</td>\n",
       "      <td>133.933605</td>\n",
       "      <td>130.660796</td>\n",
       "      <td>132.345106</td>\n",
       "      <td>132.074638</td>\n",
       "    </tr>\n",
       "    <tr>\n",
       "      <th>min</th>\n",
       "      <td>18.080000</td>\n",
       "      <td>18.270000</td>\n",
       "      <td>17.549999</td>\n",
       "      <td>17.730000</td>\n",
       "      <td>17.662531</td>\n",
       "    </tr>\n",
       "    <tr>\n",
       "      <th>25%</th>\n",
       "      <td>88.697502</td>\n",
       "      <td>89.837500</td>\n",
       "      <td>87.494997</td>\n",
       "      <td>88.410002</td>\n",
       "      <td>88.073563</td>\n",
       "    </tr>\n",
       "    <tr>\n",
       "      <th>50%</th>\n",
       "      <td>165.914993</td>\n",
       "      <td>168.315002</td>\n",
       "      <td>163.750000</td>\n",
       "      <td>166.010002</td>\n",
       "      <td>165.378258</td>\n",
       "    </tr>\n",
       "    <tr>\n",
       "      <th>75%</th>\n",
       "      <td>246.732498</td>\n",
       "      <td>250.099995</td>\n",
       "      <td>244.490002</td>\n",
       "      <td>246.822506</td>\n",
       "      <td>245.883259</td>\n",
       "    </tr>\n",
       "    <tr>\n",
       "      <th>max</th>\n",
       "      <td>631.700012</td>\n",
       "      <td>638.400024</td>\n",
       "      <td>627.210022</td>\n",
       "      <td>632.679993</td>\n",
       "      <td>632.170044</td>\n",
       "    </tr>\n",
       "  </tbody>\n",
       "</table>\n",
       "</div>"
      ],
      "text/plain": [
       "              Open         High          Low        Close    Adj Close\n",
       "count  3186.000000  3186.000000  3186.000000  3186.000000  3186.000000\n",
       "mean    186.993983   189.388905   184.632693   187.066114   186.438467\n",
       "std     132.340763   133.933605   130.660796   132.345106   132.074638\n",
       "min      18.080000    18.270000    17.549999    17.730000    17.662531\n",
       "25%      88.697502    89.837500    87.494997    88.410002    88.073563\n",
       "50%     165.914993   168.315002   163.750000   166.010002   165.378258\n",
       "75%     246.732498   250.099995   244.490002   246.822506   245.883259\n",
       "max     631.700012   638.400024   627.210022   632.679993   632.170044"
      ]
     },
     "execution_count": 14,
     "metadata": {},
     "output_type": "execute_result"
    }
   ],
   "source": [
    "data[features].describe()"
   ]
  },
  {
   "cell_type": "code",
   "execution_count": 15,
   "id": "050f156d-18dc-4ae8-8506-020ee96d85a1",
   "metadata": {},
   "outputs": [],
   "source": [
    "# Initialize scaler with range [0,1]\n",
    "sc = MinMaxScaler(feature_range=(0,1))\n",
    "\n",
    "# Fit and transform scaler to training set\n",
    "data_train_scaled = sc.fit_transform(data_train)\n",
    "\n",
    "# Transform validating and testing datasets\n",
    "data_validate_scaled = sc.transform(data_validate)\n",
    "data_test_scaled = sc.transform(data_test)"
   ]
  },
  {
   "cell_type": "code",
   "execution_count": 16,
   "id": "21aafdc5-f478-4cca-b2b4-27dcd5abce06",
   "metadata": {},
   "outputs": [
    {
     "data": {
      "text/plain": [
       "['../Jupyter/models/apple_stock_price_scaler.gz']"
      ]
     },
     "execution_count": 16,
     "metadata": {},
     "output_type": "execute_result"
    }
   ],
   "source": [
    "# Prepare scaler model name and location\n",
    "scaler_model_location = \"../Jupyter/models/\"\n",
    "scaler_model_name = \"apple_stock_price_scaler\"\n",
    "scaler_model_ext = \"gz\"\n",
    "\n",
    "# Store scaler model\n",
    "joblib.dump(sc, scaler_model_location + scaler_model_name + \".\" + scaler_model_ext)"
   ]
  },
  {
   "cell_type": "code",
   "execution_count": 17,
   "id": "b6712403-737c-4b9d-851d-642f49b3734d",
   "metadata": {},
   "outputs": [
    {
     "data": {
      "text/html": [
       "<div>\n",
       "<style scoped>\n",
       "    .dataframe tbody tr th:only-of-type {\n",
       "        vertical-align: middle;\n",
       "    }\n",
       "\n",
       "    .dataframe tbody tr th {\n",
       "        vertical-align: top;\n",
       "    }\n",
       "\n",
       "    .dataframe thead th {\n",
       "        text-align: right;\n",
       "    }\n",
       "</style>\n",
       "<table border=\"1\" class=\"dataframe\">\n",
       "  <thead>\n",
       "    <tr style=\"text-align: right;\">\n",
       "      <th></th>\n",
       "      <th>Date</th>\n",
       "      <th>Open</th>\n",
       "      <th>High</th>\n",
       "      <th>Low</th>\n",
       "      <th>Close</th>\n",
       "      <th>Adj Close</th>\n",
       "      <th>Volume</th>\n",
       "    </tr>\n",
       "  </thead>\n",
       "  <tbody>\n",
       "    <tr>\n",
       "      <th>0</th>\n",
       "      <td>2012-05-18</td>\n",
       "      <td>42.049999</td>\n",
       "      <td>45.000000</td>\n",
       "      <td>38.000000</td>\n",
       "      <td>38.230000</td>\n",
       "      <td>38.084515</td>\n",
       "      <td>573576400</td>\n",
       "    </tr>\n",
       "    <tr>\n",
       "      <th>1</th>\n",
       "      <td>2012-05-21</td>\n",
       "      <td>36.529999</td>\n",
       "      <td>36.660000</td>\n",
       "      <td>33.000000</td>\n",
       "      <td>34.029999</td>\n",
       "      <td>33.900501</td>\n",
       "      <td>168192700</td>\n",
       "    </tr>\n",
       "    <tr>\n",
       "      <th>2</th>\n",
       "      <td>2012-05-22</td>\n",
       "      <td>32.610001</td>\n",
       "      <td>33.590000</td>\n",
       "      <td>30.940001</td>\n",
       "      <td>31.000000</td>\n",
       "      <td>30.882032</td>\n",
       "      <td>101786600</td>\n",
       "    </tr>\n",
       "    <tr>\n",
       "      <th>3</th>\n",
       "      <td>2012-05-23</td>\n",
       "      <td>31.370001</td>\n",
       "      <td>32.500000</td>\n",
       "      <td>31.360001</td>\n",
       "      <td>32.000000</td>\n",
       "      <td>31.878227</td>\n",
       "      <td>73600000</td>\n",
       "    </tr>\n",
       "    <tr>\n",
       "      <th>4</th>\n",
       "      <td>2012-05-24</td>\n",
       "      <td>32.950001</td>\n",
       "      <td>33.209999</td>\n",
       "      <td>31.770000</td>\n",
       "      <td>33.029999</td>\n",
       "      <td>32.904308</td>\n",
       "      <td>50237200</td>\n",
       "    </tr>\n",
       "  </tbody>\n",
       "</table>\n",
       "</div>"
      ],
      "text/plain": [
       "        Date       Open       High        Low      Close  Adj Close     Volume\n",
       "0 2012-05-18  42.049999  45.000000  38.000000  38.230000  38.084515  573576400\n",
       "1 2012-05-21  36.529999  36.660000  33.000000  34.029999  33.900501  168192700\n",
       "2 2012-05-22  32.610001  33.590000  30.940001  31.000000  30.882032  101786600\n",
       "3 2012-05-23  31.370001  32.500000  31.360001  32.000000  31.878227   73600000\n",
       "4 2012-05-24  32.950001  33.209999  31.770000  33.029999  32.904308   50237200"
      ]
     },
     "execution_count": 17,
     "metadata": {},
     "output_type": "execute_result"
    }
   ],
   "source": [
    "data.head()"
   ]
  },
  {
   "cell_type": "code",
   "execution_count": 18,
   "id": "3d1be69a-fbe9-4159-8853-a4b4dc4c74ce",
   "metadata": {},
   "outputs": [],
   "source": [
    "# Combine dates with each corresponding dataset\n",
    "data_train_scaled_final = pd.DataFrame(data_train_scaled, columns=features, index=None)\n",
    "data_train_scaled_final[\"Date\"] = data_train_dates.values\n",
    "\n",
    "data_validate_scaled_final = pd.DataFrame(data_validate_scaled, columns=features, index=None)\n",
    "data_validate_scaled_final[\"Date\"] = data_validate_dates.values\n",
    "\n",
    "data_test_scaled_final = pd.DataFrame(data_test_scaled, columns=features, index=None)\n",
    "data_test_scaled_final[\"Date\"] = data_test_dates.values"
   ]
  },
  {
   "cell_type": "code",
   "execution_count": 19,
   "id": "8785d809-b4a9-4d40-b2ea-eb4cba43d2b5",
   "metadata": {},
   "outputs": [],
   "source": [
    "# Prepare datasets files and location\n",
    "data_file_location = \"..//Jupyter//data//processed//\"\n",
    "data_file_name_train = \"apple_stock_price_processed_train\"\n",
    "data_file_name_validate = \"apple_stock_price_processed_validate\"\n",
    "data_file_name_test = \"apple_stock_price_processed_test\"\n",
    "data_file_ext = \"csv\"\n",
    "\n",
    "# Store datasets\n",
    "data_train_scaled_final.to_csv(data_file_location + data_file_name_train + \".\" + data_file_ext, index=None)\n",
    "data_validate_scaled_final.to_csv(data_file_location + data_file_name_validate + \".\" + data_file_ext, index=None)\n",
    "data_test_scaled_final.to_csv(data_file_location + data_file_name_test + \".\" + data_file_ext, index=None)"
   ]
  },
  {
   "cell_type": "code",
   "execution_count": 20,
   "id": "2b0f297d-8ea6-46ef-bcb3-b709b76ccc59",
   "metadata": {},
   "outputs": [],
   "source": [
    "corr = data.corr()"
   ]
  },
  {
   "cell_type": "code",
   "execution_count": 21,
   "id": "912e87b6-b9b7-4bed-9639-b7a9bf68370a",
   "metadata": {},
   "outputs": [
    {
     "data": {
      "image/png": "[encoded data removed]",
      "text/plain": [
       "<Figure size 720x576 with 2 Axes>"
      ]
     },
     "metadata": {
      "needs_background": "light"
     },
     "output_type": "display_data"
    }
   ],
   "source": [
    "plt.figure(figsize=(10,8))\n",
    "sns.heatmap(corr, annot=True, fmt=\".2f\", cmap='coolwarm', square=True)\n",
    "plt.title(\"Correlation Matrix\")\n",
    "plt.show()"
   ]
  },
  {
   "cell_type": "code",
   "execution_count": null,
   "id": "e3417c49-8445-4d90-96f9-49e4906707b6",
   "metadata": {},
   "outputs": [],
   "source": []
  }
 ],
 "metadata": {
  "kernelspec": {
   "display_name": "Python 3 (ipykernel)",
   "language": "python",
   "name": "python3"
  },
  "language_info": {
   "codemirror_mode": {
    "name": "ipython",
    "version": 3
   },
   "file_extension": ".py",
   "mimetype": "text/x-python",
   "name": "python",
   "nbconvert_exporter": "python",
   "pygments_lexer": "ipython3",
   "version": "3.9.6"
  }
 },
 "nbformat": 4,
 "nbformat_minor": 5
}
